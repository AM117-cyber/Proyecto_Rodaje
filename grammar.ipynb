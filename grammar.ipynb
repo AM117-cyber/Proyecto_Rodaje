{
 "cells": [
  {
   "cell_type": "code",
   "execution_count": 128,
   "metadata": {},
   "outputs": [],
   "source": [
    "scene_ = [\"ESC:\", \"SEC:\", \"ESCENA:\", \"ESCENA\", \"SECUENCIA:\", \"SECUENCIA\"]\n",
    "in_out_ = [\"INT./EXT\", \"EXT./INT\",\"INT\", \"EXT\"]\n",
    "moment_ = [\"TARDE-NOCHE\",\"DÍA\",\"UN RATO DESPUÉS\" ,\"DIA\", \"AMANECER\", \"MAÑANA\", \"TARDE\", \"ATARDECER\", \"ANOCHECER\", \"NOCHE\", \"MADRUGADA\", \"OCASO\", \"MÁS TARDE\", \"ALBA\", \"TARDE/OCASO\", \"AL DÍA SIGUIENTE\", \"MOMENTOS DESPUÉS\", \"CONTINÚA\"]"
   ]
  },
  {
   "cell_type": "code",
   "execution_count": 129,
   "metadata": {},
   "outputs": [],
   "source": [
    "scene_options = sorted(scene_, key=len, reverse=True)\n",
    "in_out_options = sorted(in_out_, key=len, reverse=True)\n",
    "moment_options = sorted(moment_, key=len, reverse=True)"
   ]
  },
  {
   "cell_type": "code",
   "execution_count": 130,
   "metadata": {},
   "outputs": [],
   "source": [
    "Scene_options = '|'.join(scene_options)\n",
    "In_out_options = '|'.join(in_out_options)\n",
    "Moment_options = '|'.join(moment_options)"
   ]
  },
  {
   "cell_type": "code",
   "execution_count": 131,
   "metadata": {},
   "outputs": [
    {
     "name": "stderr",
     "output_type": "stream",
     "text": [
      "WARNING: 1 reduce/reduce conflict\n"
     ]
    }
   ],
   "source": [
    "from sly import Lexer, Parser\n",
    "\n",
    "\n",
    "class MyLexer(Lexer):\n",
    "    tokens={SEPARADOR, SCENE_OPTIONS, IN_OUT_OPTIONS, MOMENT_OPTIONS, NUMBER,TEXT}\n",
    "\n",
    "    ignore=' \\t\\n'\n",
    "\n",
    "    SCENE_OPTIONS=rf'{Scene_options}'\n",
    "    IN_OUT_OPTIONS = rf'{In_out_options}'\n",
    "    MOMENT_OPTIONS = rf'{Moment_options}'\n",
    "    NUMBER = r'\\d+'\n",
    "    SEPARADOR = r'\\-|\\-\\-|\\.'\n",
    "    TEXT=r'[a-zA-Z0-9!@#$%^&*()_+=\\[\\]{};:\\'\",.<>/?\\\\|`~\\-]+'\n",
    "\n",
    "class MyParser(Parser):\n",
    "    tokens = MyLexer.tokens\n",
    "\n",
    "    # Regla principal de la gramática que reconoce la estructura general\n",
    "    @_('opcional_escena opcional_numero in_out_opcion texto_con_separadores moment_options')\n",
    "    def entrada(self, p):\n",
    "        return ('entrada', p.opcional_escena, p.opcional_numero, p.in_out_opcion, p.texto_con_separadores, p.moment_options)\n",
    "\n",
    "    # Reglas para manejar la opción de tener o no SCENE_OPTIONS\n",
    "    @_('SCENE_OPTIONS')\n",
    "    def opcional_escena(self, p):\n",
    "        return p.SCENE_OPTIONS\n",
    "\n",
    "    @_('empty')\n",
    "    def opcional_escena(self, p):\n",
    "        return None\n",
    "\n",
    "    # Reglas para manejar la opción de tener o no NUMBER\n",
    "    @_('NUMBER SEPARADOR')\n",
    "    def opcional_numero(self, p):\n",
    "        return p.NUMBER\n",
    "\n",
    "    @_('empty')\n",
    "    def opcional_numero(self, p):\n",
    "        return None\n",
    "\n",
    "    # Regla para manejar IN_OUT_OPTIONS seguido de un separador\n",
    "    @_('IN_OUT_OPTIONS SEPARADOR')\n",
    "    def in_out_opcion(self, p):\n",
    "        return p.IN_OUT_OPTIONS\n",
    "\n",
    "    @_('TEXT secuencia_de_texto')\n",
    "    def texto_con_separadores(self, p):\n",
    "        return f\"{p.TEXT} {p.secuencia_de_texto}\"\n",
    "    \n",
    "    @_('SEPARADOR TEXT secuencia_de_texto ')\n",
    "    def secuencia_de_texto(self, p):\n",
    "        return f\"{p.SEPARADOR} {p.TEXT} {p.secuencia_de_texto}\"\n",
    "    \n",
    "    @_('TEXT secuencia_de_texto')\n",
    "    def secuencia_de_texto(self, p):\n",
    "        return f\"{p.TEXT} {p.secuencia_de_texto}\"\n",
    "\n",
    "    @_('TEXT SEPARADOR')\n",
    "    def secuencia_de_texto(self, p):\n",
    "        return p.TEXT\n",
    "    \n",
    "    @_('SEPARADOR')\n",
    "    def secuencia_de_texto(self, p):\n",
    "        return ''\n",
    "    \n",
    "    @_('MOMENT_OPTIONS')\n",
    "    def moment_options(self, p):\n",
    "        return p.MOMENT_OPTIONS\n",
    "\n",
    "    # Regla para manejar casos vacíos (ausencia de SCENE_OPTIONS o NUMBER)\n",
    "    @_('')\n",
    "    def empty(self, p):\n",
    "        return None\n",
    "\n",
    "    # Manejo de errores sintácticos\n",
    "    def error(self, p):\n",
    "        if p:\n",
    "            print(f\"Error de sintaxis en el token {p.type}, valor {p.value}\")\n",
    "        else:\n",
    "            print(\"Error de sintaxis en el final de la entrada\")\n",
    "\n"
   ]
  },
  {
   "cell_type": "code",
   "execution_count": 133,
   "metadata": {},
   "outputs": [
    {
     "name": "stdout",
     "output_type": "stream",
     "text": [
      "('entrada', 'ESC:', '20', 'INT./EXT', 'CASA ABUELA. PORTAL', 'UN RATO DESPUÉS')\n"
     ]
    }
   ],
   "source": [
    "from cmp.utils import *\n",
    "\n",
    "lexer = MyLexer()\n",
    "parser = MyParser()\n",
    "\n",
    "\n",
    "examples = [\n",
    "        'ESC: 20. INT./EXT. CASA ABUELA. PORTAL - UN RATO DESPUÉS'\n",
    "    ]\n",
    "\n",
    "for data in examples:\n",
    "        token=lexer.tokenize(data)\n",
    "        # for tok in token:\n",
    "        #         print(tok)\n",
    "        result = parser.parse(token)\n",
    "        print(result)"
   ]
  },
  {
   "cell_type": "code",
   "execution_count": 135,
   "metadata": {},
   "outputs": [
    {
     "name": "stderr",
     "output_type": "stream",
     "text": [
      "/home/dario/myenv/lib/python3.12/site-packages/tqdm/auto.py:21: TqdmWarning: IProgress not found. Please update jupyter and ipywidgets. See https://ipywidgets.readthedocs.io/en/stable/user_install.html\n",
      "  from .autonotebook import tqdm as notebook_tqdm\n"
     ]
    },
    {
     "ename": "NotImplementedError",
     "evalue": "docx2pdf is not implemented for linux as it requires Microsoft Word to be installed",
     "output_type": "error",
     "traceback": [
      "\u001b[0;31m---------------------------------------------------------------------------\u001b[0m",
      "\u001b[0;31mNotImplementedError\u001b[0m                       Traceback (most recent call last)",
      "Cell \u001b[0;32mIn[135], line 3\u001b[0m\n\u001b[1;32m      1\u001b[0m \u001b[38;5;28;01mfrom\u001b[39;00m \u001b[38;5;21;01mdocx2pdf\u001b[39;00m \u001b[38;5;28;01mimport\u001b[39;00m convert\n\u001b[0;32m----> 3\u001b[0m \u001b[43mconvert\u001b[49m\u001b[43m \u001b[49m\u001b[43m(\u001b[49m\u001b[43m \u001b[49m\u001b[43minput_path\u001b[49m\u001b[38;5;241;43m=\u001b[39;49m\u001b[38;5;124;43m\"\u001b[39;49m\u001b[38;5;124;43m/home/dario/Study/mma/Abuelas_y_MazmorrasV3.1.docx\u001b[39;49m\u001b[38;5;124;43m\"\u001b[39;49m\u001b[43m)\u001b[49m\n",
      "File \u001b[0;32m~/myenv/lib/python3.12/site-packages/docx2pdf/__init__.py:108\u001b[0m, in \u001b[0;36mconvert\u001b[0;34m(input_path, output_path, keep_active)\u001b[0m\n\u001b[1;32m    106\u001b[0m     \u001b[38;5;28;01mreturn\u001b[39;00m windows(paths, keep_active)\n\u001b[1;32m    107\u001b[0m \u001b[38;5;28;01melse\u001b[39;00m:\n\u001b[0;32m--> 108\u001b[0m     \u001b[38;5;28;01mraise\u001b[39;00m \u001b[38;5;167;01mNotImplementedError\u001b[39;00m(\n\u001b[1;32m    109\u001b[0m         \u001b[38;5;124m\"\u001b[39m\u001b[38;5;124mdocx2pdf is not implemented for linux as it requires Microsoft Word to be installed\u001b[39m\u001b[38;5;124m\"\u001b[39m\n\u001b[1;32m    110\u001b[0m     )\n",
      "\u001b[0;31mNotImplementedError\u001b[0m: docx2pdf is not implemented for linux as it requires Microsoft Word to be installed"
     ]
    }
   ],
   "source": [
    "from docx2pdf import convert\n",
    "\n",
    "convert ( input_path=\"/home/dario/Study/mma/Abuelas_y_MazmorrasV3.1.docx\")"
   ]
  }
 ],
 "metadata": {
  "kernelspec": {
   "display_name": "myenv",
   "language": "python",
   "name": "python3"
  },
  "language_info": {
   "codemirror_mode": {
    "name": "ipython",
    "version": 3
   },
   "file_extension": ".py",
   "mimetype": "text/x-python",
   "name": "python",
   "nbconvert_exporter": "python",
   "pygments_lexer": "ipython3",
   "version": "3.12.3"
  }
 },
 "nbformat": 4,
 "nbformat_minor": 2
}
